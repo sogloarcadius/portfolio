{
 "cells": [
  {
   "cell_type": "markdown",
   "metadata": {},
   "source": [
    "# tag\n",
    "\n",
    "# title\n",
    "\n",
    "# icon\n",
    "\n",
    "# link\n",
    "\n",
    "# summary_en\n",
    "\n",
    "\n",
    "# summary_fr\n",
    "\n",
    "\n",
    "# summary_es\n",
    "\n",
    "\n",
    "# description_en\n",
    "\n",
    "\n",
    "# description_fr\n",
    "\n",
    "# description_es\n",
    "\n",
    "   "
   ]
  }
 ],
 "metadata": {
  "kernelspec": {
   "display_name": "Bash",
   "language": "bash",
   "name": "bash"
  },
  "language_info": {
   "codemirror_mode": "shell",
   "file_extension": ".sh",
   "mimetype": "text/x-sh",
   "name": "bash"
  }
 },
 "nbformat": 4,
 "nbformat_minor": 2
}
