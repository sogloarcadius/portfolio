{
 "cells": [
  {
   "cell_type": "markdown",
   "metadata": {},
   "source": [
    "# title\n",
    "\n",
    " UFCR Organization website creation\n",
    " \n",
    "# icon\n",
    "\n",
    "# link\n",
    "\n",
    "# summary_en\n",
    "\n",
    "\n",
    "# summary_fr\n",
    "\n",
    "\n",
    "# summary_es\n",
    "\n",
    "\n",
    "# description_en\n",
    "\n",
    "\n",
    "# description_fr\n",
    "\n",
    " ## Contexte\n",
    "\n",
    "Lors de ma recherche de stage de fin de formation de DUT Réseaux et Télécommunications, j'ai postulé sur une annonce de recherche de développeur pour mettre en place le site web d'une association.\n",
    "Malheuresement, l'association demandeuse n'a pas le statut juridique nécessaire pour faire valoir la mission comme un sujet de stage, cependant j'ai accepté de mettre en place le site web pendant mon temps libre.\n",
    "J'ai mis en place la premiere version du site web en 2015. \n",
    "\n",
    " ## Cahier des charges en collaboration avec le responsable de l'association : \n",
    "\n",
    "    * Élaboration du cahier des charges du site avec le client\n",
    "    * Choix du type d'hébergement internet\n",
    "    * Achat du nom de domaine et du type d'hébergement\n",
    "    * Création de la maquette du site avec Wordpress\n",
    "    * Création du site et ajout des différentes fonctionnalités comme élaborés dans le cahier des charges\n",
    "    * Créations de l'espace membres\n",
    "\n",
    "\n",
    "Lien vers le site internet : <a href =\"http://parti-ufcr.fr/mentions-legales\"> UFCR </a>\n",
    "\n",
    "\n",
    "\n",
    "\n",
    "\n",
    "\n",
    "\n",
    "# description_es\n",
    "    \n",
    "   "
   ]
  }
 ],
 "metadata": {
  "kernelspec": {
   "display_name": "Bash",
   "language": "bash",
   "name": "bash"
  },
  "language_info": {
   "codemirror_mode": "shell",
   "file_extension": ".sh",
   "mimetype": "text/x-sh",
   "name": "bash"
  }
 },
 "nbformat": 4,
 "nbformat_minor": 2
}
