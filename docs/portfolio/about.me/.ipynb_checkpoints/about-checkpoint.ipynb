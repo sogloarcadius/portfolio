{
 "cells": [
  {
   "cell_type": "markdown",
   "metadata": {},
   "source": [
    "# surname\n",
    "\n",
    "SOGLO\n",
    "\n",
    "# firstname\n",
    "\n",
    "Arcadius \n",
    "\n",
    "# age\n",
    "\n",
    "24\n",
    "\n",
    "# job_title_en\n",
    "\n",
    "Technical Solutions Engineer\n",
    "\n",
    "# job_title_fr\n",
    "\n",
    "Ingénieur Solution Technique\n",
    "\n",
    "# job_title_es\n",
    "\n",
    "Ingeniero de Soluciones Tecnicas\n",
    "\n",
    "# address\n",
    "\n",
    "FRANCE\n",
    "\n",
    "# phone_number\n",
    "\n",
    "0033787082053\n",
    "\n",
    "# email\n",
    "\n",
    "sogloarcadius@yahoo.fr\n",
    "\n",
    "# summary_fr\n",
    "\n",
    "De formation ingénieur en informatique par alternance, j'ai une passion pour les nouvelles technologies. J'ai une base solide en réseaux informatique et sécurité. Mes centres d'interêt actuels sont le cloud computing (SDx, NFV), le développement logiciel et l'intélligence artificielle.\n",
    "\n",
    "\n",
    "# summary_en\n",
    "\n",
    "I am a software engineer and passionnate about new technologies. I have a strong understanding of computer networks and security. My interests include cloud computing(SDx, NFV), software development and artificial intelligence.\n",
    "\n",
    "\n",
    "# summary_es\n",
    "\n",
    "Soy Ingeniero informatico muy apasionado de las nuevas technologias. Tengo un buen conocimiento de las redes de las computadoras y la securidad. Mis intereses son el cloud computing(SDx, NFV), la programmacion y la inteligencia artificial.\n",
    "\n",
    "    \n",
    "# intro_url_fr\n",
    "\n",
    "http://youtube.com/sogloarcadius\n",
    "\n",
    "# intro_url_en\n",
    "\n",
    "http://youtube.com/sogloarcadius\n",
    "\n",
    "# intro_url_es\n",
    "\n",
    "http://youtube.com/sogloarcadius\n"
   ]
  }
 ],
 "metadata": {
  "kernelspec": {
   "display_name": "Python 3",
   "language": "python",
   "name": "python3"
  },
  "language_info": {
   "codemirror_mode": {
    "name": "ipython",
    "version": 3
   },
   "file_extension": ".py",
   "mimetype": "text/x-python",
   "name": "python",
   "nbconvert_exporter": "python",
   "pygments_lexer": "ipython3",
   "version": "3.4.3"
  },
  "toc": {
   "colors": {
    "hover_highlight": "#DAA520",
    "navigate_num": "#000000",
    "navigate_text": "#333333",
    "running_highlight": "#FF0000",
    "selected_highlight": "#FFD700",
    "sidebar_border": "#EEEEEE",
    "wrapper_background": "#FFFFFF"
   },
   "moveMenuLeft": true,
   "nav_menu": {
    "height": "12px",
    "width": "252px"
   },
   "navigate_menu": true,
   "number_sections": true,
   "sideBar": true,
   "threshold": 4,
   "toc_cell": true,
   "toc_position": {
    "height": "534px",
    "left": "0px",
    "right": "1154px",
    "top": "107px",
    "width": "212px"
   },
   "toc_section_display": "block",
   "toc_window_display": true,
   "widenNotebook": false
  }
 },
 "nbformat": 4,
 "nbformat_minor": 2
}
