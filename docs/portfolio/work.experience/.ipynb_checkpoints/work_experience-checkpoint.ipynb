{
 "cells": [
  {
   "cell_type": "markdown",
   "metadata": {},
   "source": [
    "# title_fr\n",
    "# title_en\n",
    "# title_es\n",
    "\n",
    "\n",
    "\n",
    "# start_date\n",
    "# end_date\n",
    "# is_current\n",
    "# company\n",
    "\n",
    "# image\n",
    "# link\n",
    "\n",
    "\n",
    "# summary_fr\n",
    "\n",
    "    Septembre 2015 - Septembre 2018 :  Apprenti Ingénieur à Orange Business Services\n",
    "        \n",
    "    Avril 2015 - Juillet 2015 :  Stage de fin de formation de DUT Réseaux & Télécommunications, SOFTEE(BEHI)\n",
    "\n",
    "# summary_en\n",
    "\n",
    "    \n",
    "    September 2015 - September 2018 : Apprentice Engineer at Orange Business Services\n",
    "\n",
    "    April 2015 - July 2015 : Internship at SOFTEE (Simulation Tools and R&D), BEHI subsidiary company\n",
    "       \n",
    " \n",
    "\n",
    "\n",
    "# summary_es\n",
    "\n",
    "    ## Experiencia\n",
    "    \n",
    "    Septiembre 2015 - Septiembre 2018 :  Contrato de aprendizaje, Orange Business Services\n",
    "\n",
    "    Abril 2015 - Julio 2015 : Colocación en un empleo, SOFTEE(BEHI)\n",
    "        \n",
    " \n",
    "# description_fr\n",
    "\n",
    "# description_en\n",
    "\n",
    "# description_es\n",
    "\n"
   ]
  }
 ],
 "metadata": {
  "kernelspec": {
   "display_name": "Python 3",
   "language": "python",
   "name": "python3"
  },
  "language_info": {
   "codemirror_mode": {
    "name": "ipython",
    "version": 3
   },
   "file_extension": ".py",
   "mimetype": "text/x-python",
   "name": "python",
   "nbconvert_exporter": "python",
   "pygments_lexer": "ipython3",
   "version": "3.4.3"
  },
  "toc": {
   "colors": {
    "hover_highlight": "#DAA520",
    "navigate_num": "#000000",
    "navigate_text": "#333333",
    "running_highlight": "#FF0000",
    "selected_highlight": "#FFD700",
    "sidebar_border": "#EEEEEE",
    "wrapper_background": "#FFFFFF"
   },
   "moveMenuLeft": true,
   "nav_menu": {
    "height": "12px",
    "width": "252px"
   },
   "navigate_menu": true,
   "number_sections": true,
   "sideBar": true,
   "threshold": 4,
   "toc_cell": true,
   "toc_position": {
    "height": "534px",
    "left": "0px",
    "right": "1154px",
    "top": "107px",
    "width": "212px"
   },
   "toc_section_display": "block",
   "toc_window_display": true,
   "widenNotebook": false
  }
 },
 "nbformat": 4,
 "nbformat_minor": 2
}
