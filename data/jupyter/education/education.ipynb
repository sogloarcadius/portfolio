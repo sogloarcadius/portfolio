{
 "cells": [
  {
   "cell_type": "markdown",
   "metadata": {},
   "source": [
    "# name_fr\n",
    "# name_en\n",
    "# name_es\n",
    "\n",
    "\n",
    "\n",
    "# start_date\n",
    "# end_date\n",
    "# is_current\n",
    "# school\n",
    "\n",
    "# image\n",
    "# link\n",
    "\n",
    "# summary_fr\n",
    "\n",
    "    Septembre 2017 - Janvier 2018 :  Echange Erasmus à Dublin Institute of Technology(DIT),Ireland\n",
    "\n",
    "    2015 - 2018 :  Formation d'ingénieur en Informatique, Multimédia & Réseaux en alternance, ENSSAT Lannion, Université Rennes I.\n",
    "\n",
    "    2013 - 2015 :  DUT Réseaux & Télécommunications, IUT Blagnac, Université Toulouse II Le Mirail\n",
    "\n",
    "\n",
    "# summary_en\n",
    "\n",
    "    September 2017 - January 2018 : Erasmus exchange (Semester 1), Dublin Institute of Technology, Ireland\n",
    "\n",
    "    2015 - 2018 : Master II Degree in Computer Science co-op program,ENSSAT Lannion(University of Rennes 1)\n",
    "\n",
    "    2013 - 2015 : [DUT] 2 years Degree in Computer Systems Networking and Telecommunication, IUT Blagnac (University of Toulouse II Le Mirail)\n",
    "\n",
    "\n",
    "# summary_es\n",
    "    \n",
    "    Septiembre 2017 - Enero 2018 : Intercambio Erasmus, Dublin Institute of Technology, Ireland\n",
    "\n",
    "    2015 - 2018 :  Master en Informatica, Redes y Multimedia, ENSSAT Lannion, Universidad Rennes I.\n",
    "\n",
    "    2013 - 2015 : Diploma de técnico superior en redes de las computadoras y telecomunicaciones, IUT Blagnac, Universidad de Toulouse II, le mirail.\n",
    "\n",
    "# description_fr\n",
    "\n",
    "# description_en\n",
    "\n",
    "# description_es\n",
    "\n",
    "\n",
    "\n"
   ]
  }
 ],
 "metadata": {
  "kernelspec": {
   "display_name": "Python 3",
   "language": "python",
   "name": "python3"
  },
  "language_info": {
   "codemirror_mode": {
    "name": "ipython",
    "version": 3
   },
   "file_extension": ".py",
   "mimetype": "text/x-python",
   "name": "python",
   "nbconvert_exporter": "python",
   "pygments_lexer": "ipython3",
   "version": "3.4.3"
  },
  "toc": {
   "colors": {
    "hover_highlight": "#DAA520",
    "navigate_num": "#000000",
    "navigate_text": "#333333",
    "running_highlight": "#FF0000",
    "selected_highlight": "#FFD700",
    "sidebar_border": "#EEEEEE",
    "wrapper_background": "#FFFFFF"
   },
   "moveMenuLeft": true,
   "nav_menu": {
    "height": "12px",
    "width": "252px"
   },
   "navigate_menu": true,
   "number_sections": true,
   "sideBar": true,
   "threshold": 4,
   "toc_cell": true,
   "toc_position": {
    "height": "534px",
    "left": "0px",
    "right": "1154px",
    "top": "107px",
    "width": "212px"
   },
   "toc_section_display": "block",
   "toc_window_display": true,
   "widenNotebook": false
  }
 },
 "nbformat": 4,
 "nbformat_minor": 2
}
