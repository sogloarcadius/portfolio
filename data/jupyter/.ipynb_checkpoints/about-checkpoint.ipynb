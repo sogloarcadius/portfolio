{
 "cells": [
  {
   "cell_type": "markdown",
   "metadata": {
    "toc": "true"
   },
   "source": [
    "# Table of Contents\n",
    " <p><div class=\"lev1 toc-item\"><a href=\"#Summary\" data-toc-modified-id=\"Summary-1\"><span class=\"toc-item-num\">1&nbsp;&nbsp;</span>Summary</a></div><div class=\"lev2 toc-item\"><a href=\"#French\" data-toc-modified-id=\"French-11\"><span class=\"toc-item-num\">1.1&nbsp;&nbsp;</span>French</a></div><div class=\"lev2 toc-item\"><a href=\"#English\" data-toc-modified-id=\"English-12\"><span class=\"toc-item-num\">1.2&nbsp;&nbsp;</span>English</a></div><div class=\"lev2 toc-item\"><a href=\"#Spanish\" data-toc-modified-id=\"Spanish-13\"><span class=\"toc-item-num\">1.3&nbsp;&nbsp;</span>Spanish</a></div>"
   ]
  },
  {
   "cell_type": "markdown",
   "metadata": {},
   "source": [
    "# Summary "
   ]
  },
  {
   "cell_type": "markdown",
   "metadata": {},
   "source": [
    "## French"
   ]
  },
  {
   "cell_type": "markdown",
   "metadata": {},
   "source": [
    "Bonjour, je m'appelle Arcadius SOGLO, je suis un ingénieur en informatique avec de solide connaissances en réseaux.\n",
    "\n",
    "J'aime apprendre et partager.\n",
    "\n",
    "Pour en savoir plus sur mon parcours, consultez les réseaux sociaux dont les liens se trouve en bas de page.\n",
    "\n",
    "\" Science sans conscience n'est que ruine de l'ame \". Rabelais\n",
    "\n",
    "\n",
    "@soglomania"
   ]
  },
  {
   "cell_type": "markdown",
   "metadata": {
    "collapsed": true
   },
   "source": [
    "## English"
   ]
  },
  {
   "cell_type": "markdown",
   "metadata": {},
   "source": [
    "Hello, \n",
    "\n",
    "my name is Arcadius SOGLO, I am a software engineer with strong skills in computer networks.\n",
    "\n",
    "I love learning new things and sharing my knowledge.\n",
    "\n",
    "To get in touch with me, please check my linkedin and other social networks.\n",
    "\n",
    "\"Science without conscience is nothing but ruin to the soul \". Rabelais, \n",
    "\n",
    "\n",
    "@soglomania"
   ]
  },
  {
   "cell_type": "markdown",
   "metadata": {},
   "source": [
    "## Spanish"
   ]
  },
  {
   "cell_type": "markdown",
   "metadata": {},
   "source": [
    "Hola,\n",
    "\n",
    "Me llamo Arcadius SOGLO. Soy ingeniero informatico y tambien sé mucho sobre las redes de las computadoras.\n",
    "\n",
    "Me gusta aprender y compartir mis conocimientos.\n",
    "\n",
    "Para saber mas sobre mi, consulta mis redes sociales.\n",
    "\n",
    "\n",
    "\"Ciencia sin conciencia no es más que ruina del alma \". Rabelais\n",
    "\n",
    "@soglomania"
   ]
  }
 ],
 "metadata": {
  "kernelspec": {
   "display_name": "Python 3",
   "language": "python",
   "name": "python3"
  },
  "language_info": {
   "codemirror_mode": {
    "name": "ipython",
    "version": 3
   },
   "file_extension": ".py",
   "mimetype": "text/x-python",
   "name": "python",
   "nbconvert_exporter": "python",
   "pygments_lexer": "ipython3",
   "version": "3.4.3"
  },
  "toc": {
   "colors": {
    "hover_highlight": "#DAA520",
    "navigate_num": "#000000",
    "navigate_text": "#333333",
    "running_highlight": "#FF0000",
    "selected_highlight": "#FFD700",
    "sidebar_border": "#EEEEEE",
    "wrapper_background": "#FFFFFF"
   },
   "moveMenuLeft": true,
   "nav_menu": {
    "height": "12px",
    "width": "252px"
   },
   "navigate_menu": true,
   "number_sections": true,
   "sideBar": true,
   "threshold": 4,
   "toc_cell": true,
   "toc_position": {
    "height": "534px",
    "left": "0px",
    "right": "1154px",
    "top": "107px",
    "width": "212px"
   },
   "toc_section_display": "block",
   "toc_window_display": true,
   "widenNotebook": false
  }
 },
 "nbformat": 4,
 "nbformat_minor": 2
}
